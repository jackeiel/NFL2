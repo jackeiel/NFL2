{
 "cells": [
  {
   "cell_type": "code",
   "execution_count": null,
   "metadata": {},
   "outputs": [],
   "source": [
    "# use to return a cleaned, aggregated dataframe where each row is a team's performance in a particular game"
   ]
  },
  {
   "cell_type": "code",
   "execution_count": 245,
   "metadata": {},
   "outputs": [],
   "source": [
    "import pandas as pd\n",
    "import numpy as np"
   ]
  },
  {
   "cell_type": "code",
   "execution_count": 246,
   "metadata": {},
   "outputs": [],
   "source": [
    "data = pd.read_csv('../DATA/play_by_play_data/regular_season/reg_pbp_2018.csv', low_memory=False)"
   ]
  },
  {
   "cell_type": "code",
   "execution_count": 247,
   "metadata": {},
   "outputs": [],
   "source": [
    "non_id = [col for col in data.columns if 'player' not in col]\n",
    "data = data[non_id]"
   ]
  },
  {
   "cell_type": "code",
   "execution_count": 248,
   "metadata": {
    "collapsed": true
   },
   "outputs": [
    {
     "data": {
      "text/plain": [
       "Index(['home_team', 'away_team', 'posteam', 'posteam_type', 'defteam',\n",
       "       'side_of_field', 'game_date', 'game_half', 'time', 'yrdln', 'desc',\n",
       "       'play_type', 'pass_length', 'pass_location', 'run_location', 'run_gap',\n",
       "       'field_goal_result', 'extra_point_result', 'two_point_conv_result',\n",
       "       'timeout_team', 'td_team', 'solo_tackle_1_team', 'solo_tackle_2_team',\n",
       "       'assist_tackle_1_team', 'assist_tackle_2_team', 'fumbled_1_team',\n",
       "       'fumbled_2_team', 'fumble_recovery_1_team', 'fumble_recovery_2_team',\n",
       "       'return_team', 'penalty_team', 'replay_or_challenge_result',\n",
       "       'penalty_type'],\n",
       "      dtype='object')"
      ]
     },
     "execution_count": 248,
     "metadata": {},
     "output_type": "execute_result"
    }
   ],
   "source": [
    "object_vars = [col for col in data if data[col].dtype == 'object']"
   ]
  },
  {
   "cell_type": "code",
   "execution_count": 249,
   "metadata": {
    "scrolled": true
   },
   "outputs": [],
   "source": [
    "data['game_date'] = pd.to_datetime(data.game_date)\n",
    "to_drop = ['play_id', 'desc', 'yrdln', 'play_type', 'pass_location', 'run_location', 'run_gap', 'timeout_team', \n",
    "          'solo_tackle_1_team', 'solo_tackle_2_team', 'assist_tackle_1_team', 'assist_tackle_2_team',\n",
    "          'fumbled_1_team', 'fumbled_2_team', 'fumble_recovery_2_team', 'return_team', 'penalty_team',\n",
    "          'replay_or_challenge_result', 'penalty_type','side_of_field', 'timeout', 'posteam_timeouts_remaining', \n",
    "           'defteam_timeouts_remaining']\n",
    "def passes(x):\n",
    "    if x == 'short':\n",
    "        return 1\n",
    "    if x == 'deep':\n",
    "        return 2\n",
    "    else:\n",
    "        return np.nan\n",
    "data['pass_length'] = data.pass_length.apply(passes)\n",
    "def field_goal(x):\n",
    "    if x == 'good':\n",
    "        return 3\n",
    "    if x =='missed':\n",
    "        return 0\n",
    "    if x=='blocked':\n",
    "        return 0\n",
    "    else:\n",
    "        return np.nan\n",
    "data['field_goal_result'] = data.field_goal_result.apply(field_goal)\n",
    "def extra_point(x):\n",
    "    if x == 'good':\n",
    "        return 1\n",
    "    if x == 'failed':\n",
    "        return 0\n",
    "    if x == 'blocked':\n",
    "        return 0\n",
    "    else:\n",
    "        return np.nan\n",
    "data['extra_point_result'] = data.extra_point_result.apply(extra_point)\n",
    "def two_point(x):\n",
    "    if x == 'success':\n",
    "        return 2\n",
    "    if x == 'failure':\n",
    "        return 0\n",
    "    else:\n",
    "        return np.nan\n",
    "data['two_point_conv_result'] = data.two_point_conv_result.apply(two_point)\n",
    "data = data.drop(to_drop, axis=1)"
   ]
  },
  {
   "cell_type": "code",
   "execution_count": 250,
   "metadata": {},
   "outputs": [],
   "source": [
    "def deep_pass_attempt(x):\n",
    "    if x == 2:\n",
    "        return 1\n",
    "    else:\n",
    "        return 0\n",
    "    \n",
    "def short_pass_attempt(x):\n",
    "    if x== 1:\n",
    "        return 1\n",
    "    else:\n",
    "        return 0\n",
    "        \n",
    "data['deep_pass_attempt'] = data.pass_length.apply(deep_pass_attempt)\n",
    "data['short_pass_attempt'] = data.pass_length.apply(short_pass_attempt)"
   ]
  },
  {
   "cell_type": "code",
   "execution_count": 251,
   "metadata": {},
   "outputs": [],
   "source": [
    "def deep_pass_complete(df):\n",
    "    if df['pass_length'] == 2:\n",
    "        if df['complete_pass'] == 1:\n",
    "            return 1\n",
    "        if df['complete_pass'] == 0:\n",
    "            return 0\n",
    "        else:\n",
    "            return np.nan\n",
    "        \n",
    "def short_pass_complete(df):\n",
    "    if df['pass_length'] == 1:\n",
    "        if df['complete_pass'] == 1:\n",
    "            return 1\n",
    "        if df['complete_pass'] == 0:\n",
    "            return 0\n",
    "        else:\n",
    "            return np.nan\n",
    "        \n",
    "data['deep_pass_complete'] = data[['pass_length', 'complete_pass']].apply(deep_pass_complete, axis=1)\n",
    "data['short_pass_complete'] = data[['pass_length', 'complete_pass']].apply(short_pass_complete, axis=1) "
   ]
  },
  {
   "cell_type": "code",
   "execution_count": 252,
   "metadata": {},
   "outputs": [],
   "source": [
    "#deep pass yards\n",
    "def deep_pass_yards(df):\n",
    "    if df['deep_pass_complete'] == 1:\n",
    "        return df['yards_gained']\n",
    "    else:\n",
    "        return np.nan\n",
    "#short pass yards\n",
    "def short_pass_yards(df):\n",
    "    if df['short_pass_complete'] == 1:\n",
    "        return df['yards_gained']\n",
    "    else:\n",
    "        return np.nan\n",
    "#all rush yards\n",
    "def rush_yards(df):\n",
    "    if df['rush_attempt'] == 1:\n",
    "        return df['yards_gained']\n",
    "    else:\n",
    "        return np.nan\n",
    "    \n",
    "data['deep_pass_yards'] = data[['deep_pass_complete', 'yards_gained']].apply(deep_pass_yards, axis=1)\n",
    "data['short_pass_yards'] = data[['short_pass_complete', 'yards_gained']].apply(short_pass_yards, axis=1)\n",
    "data['rush_yards'] = data[['rush_attempt', 'yards_gained']].apply(rush_yards, axis=1)"
   ]
  },
  {
   "cell_type": "code",
   "execution_count": 253,
   "metadata": {},
   "outputs": [],
   "source": [
    "more_drop_vars = [col for col in data.columns if 'epa' in col or 'wp' in col]\n",
    "data = data.drop(more_drop_vars, axis=1)"
   ]
  },
  {
   "cell_type": "code",
   "execution_count": 254,
   "metadata": {},
   "outputs": [],
   "source": [
    "num_vars = [col for col in data.columns if data[col].dtype != 'object'] "
   ]
  },
  {
   "cell_type": "code",
   "execution_count": 255,
   "metadata": {},
   "outputs": [],
   "source": [
    "num_data = data[num_vars]\n",
    "num_data.loc[:,'posteam'] = data['posteam']\n",
    "num_data.loc[:,'game_date'] = data['game_date']"
   ]
  },
  {
   "cell_type": "code",
   "execution_count": 256,
   "metadata": {},
   "outputs": [],
   "source": [
    "agg_num_data = num_data.groupby(['game_id', 'posteam','game_date']).agg(np.sum)"
   ]
  },
  {
   "cell_type": "code",
   "execution_count": 257,
   "metadata": {},
   "outputs": [],
   "source": [
    "agg_num_data['drive'] = num_data.groupby(['game_id', 'posteam', 'game_date'])['drive'].agg(np.max)\n",
    "agg_num_data['total_home_score'] = num_data.groupby(['game_id', 'posteam', 'game_date'])['total_home_score'].agg(np.max)\n",
    "agg_num_data['total_away_score'] = num_data.groupby(['game_id', 'posteam', 'game_date'])['total_away_score'].agg(np.max)\n",
    "agg_num_data['team'] = agg_num_data.index.droplevel(['game_id', 'game_date'])"
   ]
  },
  {
   "cell_type": "code",
   "execution_count": 258,
   "metadata": {},
   "outputs": [],
   "source": [
    "agg_num_data['total_plays'] = agg_num_data.pass_attempt + agg_num_data.rush_attempt"
   ]
  },
  {
   "cell_type": "code",
   "execution_count": 259,
   "metadata": {},
   "outputs": [],
   "source": [
    "agg_num_data['home_team'] = data.groupby(['game_id','posteam','game_date'])['home_team'].first()\n",
    "agg_num_data['away_team'] = data.groupby(['game_id','posteam','game_date'])['away_team'].first()"
   ]
  },
  {
   "cell_type": "code",
   "execution_count": 260,
   "metadata": {},
   "outputs": [],
   "source": [
    "def win(row):\n",
    "    if row['team'] == row['home_team']:\n",
    "        if row['total_home_score'] > row['total_away_score']:\n",
    "            return 1\n",
    "        else:\n",
    "            return 0\n",
    "    if row['team'] == row['away_team']:\n",
    "        if row['total_away_score'] > row['total_home_score']:\n",
    "            return 1\n",
    "        else:\n",
    "            return 0\n",
    "    else:\n",
    "        # if tie, return 0\n",
    "        return 0\n",
    "agg_num_data['win'] = agg_num_data.apply(win, axis=1)"
   ]
  },
  {
   "cell_type": "code",
   "execution_count": 261,
   "metadata": {},
   "outputs": [],
   "source": [
    "def opp(row):\n",
    "    if row['team'] == row['home_team']:\n",
    "        return row['away_team']\n",
    "    else:\n",
    "        return row['home_team']\n",
    "\n",
    "agg_num_data['opponent'] = agg_num_data.apply(opp, axis=1)"
   ]
  },
  {
   "cell_type": "code",
   "execution_count": 262,
   "metadata": {},
   "outputs": [],
   "source": [
    "agg_num_data.index = agg_num_data.index.droplevel(['game_id', 'posteam'])"
   ]
  },
  {
   "cell_type": "code",
   "execution_count": 264,
   "metadata": {},
   "outputs": [],
   "source": [
    "useless_sums = ['yardline_100', 'quarter_seconds_remaining', 'half_seconds_remaining', 'game_seconds_remaining',\n",
    "               'quarter_end', 'qtr', 'down', 'ydstogo', 'ydsnet', 'kick_distance', 'home_timeouts_remaining',\n",
    "               'away_timeouts_remaining', 'posteam_score', 'defteam_score', 'score_differential', 'posteam_score_post',\n",
    "               'defteam_score_post', 'score_differential_post', 'replay_or_challenge', 'ep']\n",
    "useless_sums.extend([col for col in agg_num_data.columns if 'prob' in col])\n",
    "agg_num_data = agg_num_data.drop(useless_sums, axis=1)"
   ]
  }
 ],
 "metadata": {
  "kernelspec": {
   "display_name": "Python 3",
   "language": "python",
   "name": "python3"
  },
  "language_info": {
   "codemirror_mode": {
    "name": "ipython",
    "version": 3
   },
   "file_extension": ".py",
   "mimetype": "text/x-python",
   "name": "python",
   "nbconvert_exporter": "python",
   "pygments_lexer": "ipython3",
   "version": "3.7.3"
  }
 },
 "nbformat": 4,
 "nbformat_minor": 2
}
